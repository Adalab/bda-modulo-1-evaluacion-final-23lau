{
 "cells": [
  {
   "cell_type": "code",
   "execution_count": null,
   "metadata": {},
   "outputs": [],
   "source": [
    "# Prueba"
   ]
  },
  {
   "cell_type": "markdown",
   "metadata": {},
   "source": [
    "### Funciones con las que vamos a trabajar"
   ]
  },
  {
   "cell_type": "code",
   "execution_count": 240,
   "metadata": {},
   "outputs": [],
   "source": [
    "# Función1"
   ]
  },
  {
   "cell_type": "code",
   "execution_count": 239,
   "metadata": {},
   "outputs": [],
   "source": [
    "# Función2: ver_inventario()\n",
    "def ver_inventario():\n",
    "    for producto in inventario:\n",
    "        print(producto)"
   ]
  },
  {
   "cell_type": "code",
   "execution_count": 241,
   "metadata": {},
   "outputs": [],
   "source": [
    "# Función3"
   ]
  },
  {
   "cell_type": "code",
   "execution_count": null,
   "metadata": {},
   "outputs": [],
   "source": [
    "# Funcion4"
   ]
  },
  {
   "cell_type": "code",
   "execution_count": null,
   "metadata": {},
   "outputs": [],
   "source": [
    "# Funcion5"
   ]
  },
  {
   "cell_type": "code",
   "execution_count": null,
   "metadata": {},
   "outputs": [],
   "source": [
    "# Funcion6"
   ]
  },
  {
   "cell_type": "code",
   "execution_count": null,
   "metadata": {},
   "outputs": [],
   "source": [
    "# Funcion7"
   ]
  },
  {
   "cell_type": "code",
   "execution_count": null,
   "metadata": {},
   "outputs": [],
   "source": [
    "# Funcion8"
   ]
  },
  {
   "cell_type": "code",
   "execution_count": 413,
   "metadata": {},
   "outputs": [],
   "source": [
    "# Funcion9: agregar_cliente(nombre, email)\n",
    "\n",
    "def agregar_cliente(nombre, email):\n",
    "    nuevo_cliente = {\n",
    "        'nombre' : nombre,\n",
    "        'email' : email\n",
    "    }\n",
    "    clientes.append(nuevo_cliente)\n",
    "    return clientes"
   ]
  },
  {
   "cell_type": "code",
   "execution_count": null,
   "metadata": {},
   "outputs": [],
   "source": [
    "# Funcion10: ver_clientes()\n",
    "\n",
    "def ver_clientes():\n",
    "    for cliente in clientes:\n",
    "        print(cliente)"
   ]
  },
  {
   "cell_type": "markdown",
   "metadata": {},
   "source": [
    "### 3 Estructuras con las que vamos a trabajar:\n",
    "\n",
    "1. 'inventario' (lista de diccionarios): Una estructura para almacenar los productos en el inventario. Cada producto debe ser representado como un diccionario con las siguientes claves: `'nombre'`, `'precio'`, y `'cantidad'`. Al principio deberá ser una lista vacía. \n",
    "\n",
    "2. 'clientes' (diccionario): Una estructura para llevar un registro de los clientes de la tienda. Cada cliente debe ser representado como un diccionario con las siguientes claves: `'nombre'` y `'email'`. Al inicio deberá ser un diccionario vacío. Además, cada cliente debe tener un historial de compras. \n",
    "\n",
    "3. 'ventas_totales'(float): Una variable para llevar un registro de las ventas totales de la tienda. Inicializalo con valor 0. "
   ]
  },
  {
   "cell_type": "code",
   "execution_count": 33,
   "metadata": {},
   "outputs": [
    {
     "name": "stdout",
     "output_type": "stream",
     "text": [
      "[]\n"
     ]
    }
   ],
   "source": [
    "inventario = []\n",
    "clientes = {'nombre': '', 'email': ''}\n",
    "ventas_totales = []"
   ]
  },
  {
   "cell_type": "markdown",
   "metadata": {},
   "source": [
    "### Ejercicio 1\n",
    "\n",
    "1. 'agregar_producto(nombre, precio, cantidad)': Esta función agrega un producto al inventario o actualiza su cantidad si ya existe. Debe recibir el nombre, precio y cantidad del producto como parámetros.  \n",
    " - Itera a través del inventario y compara los nombres de los productos con el nombre proporcionado. \n",
    " - Si el producto ya existe, actualiza la cantidad. \n",
    " - Si no existe, agrega un nuevo producto al inventario."
   ]
  },
  {
   "cell_type": "code",
   "execution_count": null,
   "metadata": {},
   "outputs": [],
   "source": [
    "# Ejercicio 1\n",
    "\n",
    "# Definir función 'agregar_producto(nombre, precio, cantidad)\n",
    "#### if producto existe - actualiza cantidad en inventario (Vglobal)\n",
    "#### else agrega producto al inventario\n",
    "\n"
   ]
  },
  {
   "cell_type": "code",
   "execution_count": 388,
   "metadata": {},
   "outputs": [],
   "source": [
    "inventario = []"
   ]
  },
  {
   "cell_type": "code",
   "execution_count": 389,
   "metadata": {},
   "outputs": [],
   "source": [
    "inventario = []\n",
    "\n",
    "def agregar_producto (nombre, precio, cantidad):\n",
    "    nuevo_producto = {\n",
    "        'nombre': nombre,\n",
    "        'precio' : precio,\n",
    "        'cantidad' : cantidad\n",
    "        }\n",
    "    if nuevo_producto in inventario:\n",
    "            inventario.append(nuevo_producto)  \n",
    "            pass\n",
    "    else:\n",
    "        inventario.append(nuevo_producto)\n",
    "            \n",
    "    return inventario \n"
   ]
  },
  {
   "cell_type": "code",
   "execution_count": 390,
   "metadata": {},
   "outputs": [
    {
     "name": "stdout",
     "output_type": "stream",
     "text": [
      "[{'nombre': 'pantalon', 'precio': 25, 'cantidad': 100}, {'nombre': 'camisa', 'precio': 20, 'cantidad': 500}, {'nombre': 'bikini', 'precio': 25, 'cantidad': 200}]\n"
     ]
    }
   ],
   "source": [
    "agregar_producto('pantalon', 25, 100)\n",
    "agregar_producto('camisa', 20, 500)\n",
    "agregar_producto('bikini', 25, 200)\n",
    "\n",
    "print(inventario)"
   ]
  },
  {
   "cell_type": "code",
   "execution_count": 391,
   "metadata": {},
   "outputs": [
    {
     "data": {
      "text/plain": [
       "[{'nombre': 'pantalon', 'precio': 25, 'cantidad': 100},\n",
       " {'nombre': 'camisa', 'precio': 20, 'cantidad': 500},\n",
       " {'nombre': 'bikini', 'precio': 25, 'cantidad': 200}]"
      ]
     },
     "execution_count": 391,
     "metadata": {},
     "output_type": "execute_result"
    }
   ],
   "source": [
    "inventario"
   ]
  },
  {
   "cell_type": "code",
   "execution_count": 392,
   "metadata": {},
   "outputs": [
    {
     "data": {
      "text/plain": [
       "[{'nombre': 'pantalon', 'precio': 25, 'cantidad': 100},\n",
       " {'nombre': 'camisa', 'precio': 20, 'cantidad': 500},\n",
       " {'nombre': 'bikini', 'precio': 25, 'cantidad': 200},\n",
       " {'nombre': 'pantalon', 'precio': 25, 'cantidad': 25}]"
      ]
     },
     "execution_count": 392,
     "metadata": {},
     "output_type": "execute_result"
    }
   ],
   "source": [
    "agregar_producto('pantalon', 25, 25)"
   ]
  },
  {
   "cell_type": "markdown",
   "metadata": {},
   "source": [
    "2. 'ver_inventario()': Muestra el inventario de productos con sus detalles. \n",
    "     - Utiliza un bucle `for` para recorrer el inventario. \n",
    "     - Imprime los detalles (nombre, precio, cantidad) de cada producto. "
   ]
  },
  {
   "cell_type": "code",
   "execution_count": 219,
   "metadata": {},
   "outputs": [],
   "source": [
    "# Crear función2: 'ver_inventario()\" que contenga bucle for\n",
    "# Llamar funcion "
   ]
  },
  {
   "cell_type": "code",
   "execution_count": 393,
   "metadata": {},
   "outputs": [
    {
     "data": {
      "text/plain": [
       "[{'nombre': 'pantalon', 'precio': 25, 'cantidad': 100},\n",
       " {'nombre': 'camisa', 'precio': 20, 'cantidad': 500},\n",
       " {'nombre': 'bikini', 'precio': 25, 'cantidad': 200},\n",
       " {'nombre': 'pantalon', 'precio': 25, 'cantidad': 25}]"
      ]
     },
     "execution_count": 393,
     "metadata": {},
     "output_type": "execute_result"
    }
   ],
   "source": [
    "inventario"
   ]
  },
  {
   "cell_type": "code",
   "execution_count": 394,
   "metadata": {},
   "outputs": [],
   "source": [
    "# Definir funcion2\n",
    "\n",
    "def ver_inventario():\n",
    "    for producto in inventario:\n",
    "        print(producto)"
   ]
  },
  {
   "cell_type": "code",
   "execution_count": 395,
   "metadata": {},
   "outputs": [
    {
     "name": "stdout",
     "output_type": "stream",
     "text": [
      "{'nombre': 'pantalon', 'precio': 25, 'cantidad': 100}\n",
      "{'nombre': 'camisa', 'precio': 20, 'cantidad': 500}\n",
      "{'nombre': 'bikini', 'precio': 25, 'cantidad': 200}\n",
      "{'nombre': 'pantalon', 'precio': 25, 'cantidad': 25}\n"
     ]
    }
   ],
   "source": [
    "# Llamar funcion2:\n",
    "\n",
    "ver_inventario()"
   ]
  },
  {
   "cell_type": "markdown",
   "metadata": {},
   "source": [
    "# Ejercicio 3\n",
    "\n",
    " 3. 'buscar_producto(nombre)': Busca un producto en el inventario por nombre y muestra sus detalles si se encuentra. Debe recibir el nombre del producto como parámetro. \n",
    "     - Utiliza un bucle `for` para recorrer el inventario. \n",
    "     - Compara los nombres de los productos con el nombre proporcionado. \n",
    "     - Si se encuentra el producto, imprime sus detalles. "
   ]
  },
  {
   "cell_type": "code",
   "execution_count": 396,
   "metadata": {},
   "outputs": [
    {
     "data": {
      "text/plain": [
       "[{'nombre': 'pantalon', 'precio': 25, 'cantidad': 100},\n",
       " {'nombre': 'camisa', 'precio': 20, 'cantidad': 500},\n",
       " {'nombre': 'bikini', 'precio': 25, 'cantidad': 200},\n",
       " {'nombre': 'pantalon', 'precio': 25, 'cantidad': 25}]"
      ]
     },
     "execution_count": 396,
     "metadata": {},
     "output_type": "execute_result"
    }
   ],
   "source": [
    "inventario"
   ]
  },
  {
   "cell_type": "code",
   "execution_count": 397,
   "metadata": {},
   "outputs": [],
   "source": [
    "# Crear funcion3: 'buscar_producto()':\n",
    "\n",
    "def buscar_producto(nombre):\n",
    "    nuevo_producto = {'nombre': nombre}\n",
    "    for nombre in inventario:\n",
    "        if nuevo_producto in inventario:\n",
    "            print (nuevo_producto)\n",
    "        else:\n",
    "            print ('no existe')"
   ]
  },
  {
   "cell_type": "markdown",
   "metadata": {},
   "source": [
    "4. `actualizar_stock(nombre, cantidad)`: Actualiza el stock de un producto en el inventario. Debe recibir el nombre del producto y la cantidad a agregar o quitar como parámetros. \n",
    "    - Utiliza un bucle `for` para recorrer el inventario. \n",
    "    - Busca el producto por nombre.\n",
    "    - Actualiza la cantidad según la entrada del usuario. \n",
    "    - Si el producto no esta en el inventario muestra un mensaje indicándolo.  "
   ]
  },
  {
   "cell_type": "code",
   "execution_count": 400,
   "metadata": {},
   "outputs": [],
   "source": [
    "# Ejercicio 4\n",
    "\n",
    "# bucle for\n",
    "# busca producto por nombre\n",
    "# if actualiza append\n",
    "# else print mensaje"
   ]
  },
  {
   "cell_type": "markdown",
   "metadata": {},
   "source": [
    "5. `eliminar_producto(nombre)`: Elimina un producto del inventario por \n",
    "nombre. Debe recibir el nombre del producto como parámetro. \n",
    "     - Utiliza un bucle `for` para recorrer el inventario. \n",
    "     - Busca el producto por nombre. \n",
    "     - Elimina el producto del inventario si existe. \n",
    "     - Si el producto no esta en el inventario muestra un mensaje \n",
    "indicándolo."
   ]
  },
  {
   "cell_type": "code",
   "execution_count": null,
   "metadata": {},
   "outputs": [],
   "source": [
    "# recorre con un for la clave nombre\n",
    "# si existe (if) eliminar con metodo remove()\n",
    "# si no existe (else) eliminar con mensaje (print)"
   ]
  },
  {
   "cell_type": "code",
   "execution_count": 375,
   "metadata": {},
   "outputs": [
    {
     "data": {
      "text/plain": [
       "list"
      ]
     },
     "execution_count": 375,
     "metadata": {},
     "output_type": "execute_result"
    }
   ],
   "source": [
    "type(inventario)"
   ]
  },
  {
   "cell_type": "code",
   "execution_count": 383,
   "metadata": {},
   "outputs": [],
   "source": [
    "# Crear funcion5: eliminarproducto(nombre)\n",
    "\n",
    "inventario = []\n",
    "\n",
    "def eliminar_producto(nombre):\n",
    "    for nombre in inventario:\n",
    "        if nombre in inventario:\n",
    "            print('yes')\n",
    "        else:\n",
    "            print('no')"
   ]
  },
  {
   "cell_type": "code",
   "execution_count": 386,
   "metadata": {},
   "outputs": [
    {
     "name": "stdout",
     "output_type": "stream",
     "text": [
      "[]\n"
     ]
    }
   ],
   "source": [
    "print(inventario)"
   ]
  },
  {
   "cell_type": "code",
   "execution_count": 384,
   "metadata": {},
   "outputs": [],
   "source": [
    "eliminar_producto('bikini')"
   ]
  },
  {
   "cell_type": "code",
   "execution_count": 385,
   "metadata": {},
   "outputs": [],
   "source": [
    "eliminar_producto('bañador')"
   ]
  },
  {
   "cell_type": "markdown",
   "metadata": {},
   "source": [
    " 6. `calcular_valor_inventario()`: Calcula y muestra el valor total del inventario. \n",
    "     - Utiliza un bucle for para calcular el valor total del inventario. \n",
    "     - Itera a través del inventario y suma el valor de cada producto \n",
    "(precio x cantidad). Es decir, calcula el valor total del inventario."
   ]
  },
  {
   "cell_type": "code",
   "execution_count": 401,
   "metadata": {},
   "outputs": [],
   "source": [
    "# Ejercicio 6"
   ]
  },
  {
   "cell_type": "markdown",
   "metadata": {},
   "source": [
    "8. `procesar_pago()`: Procesa el pago de una compra, calcula el cambio y muestra un mensaje de confirmación. \n",
    "     - Utiliza un bloque `try...except` para manejar excepciones. \n",
    "     - Solicita al cliente ingresar la cantidad total y la cantidad de pago usando un input. \n",
    "     - Calcula el cambio y muestra un mensaje de pago exitoso o un error en caso de monto insuficiente. "
   ]
  },
  {
   "cell_type": "code",
   "execution_count": 402,
   "metadata": {},
   "outputs": [],
   "source": [
    "# Definir funcion8:\n"
   ]
  },
  {
   "cell_type": "markdown",
   "metadata": {},
   "source": [
    "9. `agregar_cliente(nombre, email)`: Agrega un nuevo cliente al registro de clientes. Debe recibir el nombre y el correo electrónico del cliente como parámetros. \n",
    "     - Agrega un cliente al diccionario de clientes con su nombre y correo electrónico. "
   ]
  },
  {
   "cell_type": "code",
   "execution_count": 411,
   "metadata": {},
   "outputs": [],
   "source": [
    "# Definir funcion9: agregar_cliente(nombre, email)\n",
    "\n",
    "clientes = []\n",
    "\n",
    "def agregar_cliente(nombre, email):\n",
    "    nuevo_cliente = {\n",
    "        'nombre' : nombre,\n",
    "        'email' : email\n",
    "    }\n",
    "    clientes.append(nuevo_cliente)\n",
    "    return clientes\n"
   ]
  },
  {
   "cell_type": "code",
   "execution_count": 412,
   "metadata": {},
   "outputs": [
    {
     "data": {
      "text/plain": [
       "[{'nombre': 'Ana', 'email': 'anaperez@gmail.com'}]"
      ]
     },
     "execution_count": 412,
     "metadata": {},
     "output_type": "execute_result"
    }
   ],
   "source": [
    "# Llamar a la funcion9\n",
    "\n",
    "agregar_cliente('Ana', 'anaperez@gmail.com')"
   ]
  },
  {
   "cell_type": "markdown",
   "metadata": {},
   "source": [
    "10. ver_clientes(): Muestra la lista de clientes registrados con sus nombres y correos electrónicos. \n",
    "     - Utiliza un bucle for para recorrer la base de datos de clientes. \n",
    "     - Imprime los detalles de cada cliente (nombre y correo electrónico). "
   ]
  },
  {
   "cell_type": "code",
   "execution_count": 414,
   "metadata": {},
   "outputs": [
    {
     "data": {
      "text/plain": [
       "[{'nombre': 'Ana', 'email': 'anaperez@gmail.com'},\n",
       " {'nombre': 'Sofia', 'email': 'sofia1234@gmail'}]"
      ]
     },
     "execution_count": 414,
     "metadata": {},
     "output_type": "execute_result"
    }
   ],
   "source": [
    "agregar_cliente ('Sofia', 'sofia1234@gmail')"
   ]
  },
  {
   "cell_type": "code",
   "execution_count": 415,
   "metadata": {},
   "outputs": [
    {
     "data": {
      "text/plain": [
       "[{'nombre': 'Ana', 'email': 'anaperez@gmail.com'},\n",
       " {'nombre': 'Sofia', 'email': 'sofia1234@gmail'},\n",
       " {'nombre': 'Aimar', 'email': 'aimar10@hotmail.com'}]"
      ]
     },
     "execution_count": 415,
     "metadata": {},
     "output_type": "execute_result"
    }
   ],
   "source": [
    "agregar_cliente ('Aimar', 'aimar10@hotmail.com')"
   ]
  },
  {
   "cell_type": "code",
   "execution_count": 434,
   "metadata": {},
   "outputs": [],
   "source": [
    "# Definir funcion10: ver_clientes()\n",
    "\n",
    "clientes \n",
    "\n",
    "def ver_clientes():\n",
    "    for cliente in clientes:\n",
    "        print(cliente)"
   ]
  },
  {
   "cell_type": "code",
   "execution_count": 433,
   "metadata": {},
   "outputs": [
    {
     "name": "stdout",
     "output_type": "stream",
     "text": [
      "{'nombre': 'Ana', 'email': 'anaperez@gmail.com'}\n",
      "{'nombre': 'Sofia', 'email': 'sofia1234@gmail'}\n",
      "{'nombre': 'Aimar', 'email': 'aimar10@hotmail.com'}\n"
     ]
    }
   ],
   "source": [
    "# Llamada a la funcion10: ver_clientes()\n",
    "\n",
    "ver_clientes()"
   ]
  }
 ],
 "metadata": {
  "kernelspec": {
   "display_name": "base",
   "language": "python",
   "name": "python3"
  },
  "language_info": {
   "codemirror_mode": {
    "name": "ipython",
    "version": 3
   },
   "file_extension": ".py",
   "mimetype": "text/x-python",
   "name": "python",
   "nbconvert_exporter": "python",
   "pygments_lexer": "ipython3",
   "version": "3.12.4"
  }
 },
 "nbformat": 4,
 "nbformat_minor": 2
}
