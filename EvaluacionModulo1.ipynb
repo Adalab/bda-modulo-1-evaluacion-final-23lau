{
 "cells": [
  {
   "cell_type": "code",
   "execution_count": null,
   "metadata": {},
   "outputs": [],
   "source": [
    "# Prueba"
   ]
  },
  {
   "cell_type": "markdown",
   "metadata": {},
   "source": [
    "### Funciones con las que vamos a trabajar"
   ]
  },
  {
   "cell_type": "code",
   "execution_count": 329,
   "metadata": {},
   "outputs": [],
   "source": [
    "# Función1\n",
    "\n",
    "def agregar_producto (nombre, precio, cantidad):\n",
    "    for producto in inventario:\n",
    "        if producto['nombre'] == nombre:\n",
    "            producto['precio'] = precio\n",
    "            producto['cantidad'] = cantidad \n",
    "            return\n",
    "    nuevo_producto = {\n",
    "        'nombre': nombre,\n",
    "        'precio': precio,\n",
    "        'cantidad': cantidad\n",
    "    }\n",
    "    inventario.append(nuevo_producto)"
   ]
  },
  {
   "cell_type": "code",
   "execution_count": 239,
   "metadata": {},
   "outputs": [],
   "source": [
    "# Función2: ver_inventario()\n",
    "def ver_inventario():\n",
    "    for producto in inventario:\n",
    "        print(producto)"
   ]
  },
  {
   "cell_type": "code",
   "execution_count": 241,
   "metadata": {},
   "outputs": [],
   "source": [
    "# Función3"
   ]
  },
  {
   "cell_type": "code",
   "execution_count": 287,
   "metadata": {},
   "outputs": [],
   "source": [
    "# Funcion4: actualizar_stock(nombre, cantidad):\n",
    "\n",
    "def actualizar_stock(nombre,cantidad):\n",
    "    for elemento in inventario:\n",
    "        if elemento['nombre'] == nombre:\n",
    "            elemento['cantidad'] = cantidad\n",
    "            print('El producto ha sido actualizado')\n",
    "            return nombre\n",
    "        else:\n",
    "            print('El producto no existe')"
   ]
  },
  {
   "cell_type": "code",
   "execution_count": null,
   "metadata": {},
   "outputs": [],
   "source": [
    "# Funcion5"
   ]
  },
  {
   "cell_type": "code",
   "execution_count": null,
   "metadata": {},
   "outputs": [],
   "source": [
    "# Funcion6"
   ]
  },
  {
   "cell_type": "code",
   "execution_count": null,
   "metadata": {},
   "outputs": [],
   "source": [
    "# Funcion7"
   ]
  },
  {
   "cell_type": "code",
   "execution_count": null,
   "metadata": {},
   "outputs": [],
   "source": [
    "# Funcion8: procesar_pago()\n",
    "\n",
    "def procesar_pago():\n",
    "    try:\n",
    "        cantidad_introducida = float(input(\"Ingrese un número: \"))\n",
    "        cantidad_a_pagar = float(input(\"Ingrese un número: \"))\n",
    "        resultado_pago = (cantidad_introducida - cantidad_a_pagar)\n",
    "        if resultado_pago > 0:\n",
    "            print('La cantidad introducida es:', cantidad_introducida)\n",
    "            print('La cantidad a pagar es:', cantidad_a_pagar)\n",
    "            print ('El pago ha sido exitoso')\n",
    "        elif resultado_pago < 0:\n",
    "            print('La cantidad introducida es:', cantidad_introducida)\n",
    "            print('La cantidad a pagar es:', cantidad_a_pagar)\n",
    "            print('Monto insuficiente')\n",
    "    except:\n",
    "        ValueError\n",
    "        print ('El pago ha fallado')"
   ]
  },
  {
   "cell_type": "code",
   "execution_count": 413,
   "metadata": {},
   "outputs": [],
   "source": [
    "# Funcion9: agregar_cliente(nombre, email)\n",
    "\n",
    "def agregar_cliente(nombre, email):\n",
    "    nuevo_cliente = {\n",
    "        'nombre' : nombre,\n",
    "        'email' : email\n",
    "    }\n",
    "    clientes.append(nuevo_cliente)\n",
    "    return clientes"
   ]
  },
  {
   "cell_type": "code",
   "execution_count": null,
   "metadata": {},
   "outputs": [],
   "source": [
    "# Funcion10: ver_clientes()\n",
    "\n",
    "def ver_clientes():\n",
    "    for cliente in clientes:\n",
    "        print(cliente)"
   ]
  },
  {
   "cell_type": "markdown",
   "metadata": {},
   "source": [
    "### 3 Estructuras con las que vamos a trabajar:\n",
    "\n",
    "1. 'inventario' (lista de diccionarios): Una estructura para almacenar los productos en el inventario. Cada producto debe ser representado como un diccionario con las siguientes claves: `'nombre'`, `'precio'`, y `'cantidad'`. Al principio deberá ser una lista vacía. \n",
    "\n",
    "2. 'clientes' (diccionario): Una estructura para llevar un registro de los clientes de la tienda. Cada cliente debe ser representado como un diccionario con las siguientes claves: `'nombre'` y `'email'`. Al inicio deberá ser un diccionario vacío. Además, cada cliente debe tener un historial de compras. \n",
    "\n",
    "3. 'ventas_totales'(float): Una variable para llevar un registro de las ventas totales de la tienda. Inicializalo con valor 0. "
   ]
  },
  {
   "cell_type": "code",
   "execution_count": 43,
   "metadata": {},
   "outputs": [],
   "source": [
    "inventario = []\n",
    "clientes = {'nombre': '', 'email': ''}\n",
    "ventas_totales = []"
   ]
  },
  {
   "cell_type": "markdown",
   "metadata": {},
   "source": [
    "### Ejercicio 1\n",
    "\n",
    "1. 'agregar_producto(nombre, precio, cantidad)': Esta función agrega un producto al inventario o actualiza su cantidad si ya existe. Debe recibir el nombre, precio y cantidad del producto como parámetros.  \n",
    " - Itera a través del inventario y compara los nombres de los productos con el nombre proporcionado. \n",
    " - Si el producto ya existe, actualiza la cantidad. \n",
    " - Si no existe, agrega un nuevo producto al inventario."
   ]
  },
  {
   "cell_type": "code",
   "execution_count": 288,
   "metadata": {},
   "outputs": [],
   "source": [
    "# Ejercicio 1\n",
    "\n",
    "# Definir función 'agregar_producto(nombre, precio, cantidad)\n",
    "### itera con for a través del diccionario\n",
    "#### if producto existe - actualiza cantidad en inventario (Vglobal)\n",
    "#### else agrega producto al inventario\n",
    "\n"
   ]
  },
  {
   "cell_type": "code",
   "execution_count": 315,
   "metadata": {},
   "outputs": [
    {
     "name": "stdout",
     "output_type": "stream",
     "text": [
      "[]\n"
     ]
    }
   ],
   "source": [
    "inventario = []\n",
    "print(inventario)"
   ]
  },
  {
   "cell_type": "code",
   "execution_count": 320,
   "metadata": {},
   "outputs": [],
   "source": [
    "# Definir funcion1: agregar_producto\n",
    "\n",
    "inventario = []\n",
    "\n",
    "def agregar_producto (nombre, precio, cantidad):\n",
    "    for producto in inventario:\n",
    "        if producto['nombre'] == nombre:\n",
    "            producto['precio'] = precio\n",
    "            producto['cantidad'] = cantidad \n",
    "            return\n",
    "    nuevo_producto = {\n",
    "        'nombre': nombre,\n",
    "        'precio': precio,\n",
    "        'cantidad': cantidad\n",
    "    }\n",
    "    inventario.append(nuevo_producto)\n",
    "\n"
   ]
  },
  {
   "cell_type": "code",
   "execution_count": 321,
   "metadata": {},
   "outputs": [
    {
     "data": {
      "text/plain": [
       "[{'nombre': 'pantalon', 'precio': 25, 'cantidad': 100}]"
      ]
     },
     "execution_count": 321,
     "metadata": {},
     "output_type": "execute_result"
    }
   ],
   "source": [
    "# Llamar a funcion1:\n",
    "\n",
    "agregar_producto ('pantalon', 25, 100)\n",
    "inventario"
   ]
  },
  {
   "cell_type": "code",
   "execution_count": 323,
   "metadata": {},
   "outputs": [
    {
     "data": {
      "text/plain": [
       "[{'nombre': 'pantalon', 'precio': 25, 'cantidad': 100},\n",
       " {'nombre': 'camisa', 'precio': 20, 'cantidad': 200}]"
      ]
     },
     "execution_count": 323,
     "metadata": {},
     "output_type": "execute_result"
    }
   ],
   "source": [
    "agregar_producto ('camisa', 20, 200)\n",
    "inventario"
   ]
  },
  {
   "cell_type": "code",
   "execution_count": 324,
   "metadata": {},
   "outputs": [
    {
     "data": {
      "text/plain": [
       "[{'nombre': 'pantalon', 'precio': 25, 'cantidad': 100},\n",
       " {'nombre': 'camisa', 'precio': 20, 'cantidad': 200},\n",
       " {'nombre': 'bikini', 'precio': 35, 'cantidad': 80}]"
      ]
     },
     "execution_count": 324,
     "metadata": {},
     "output_type": "execute_result"
    }
   ],
   "source": [
    "agregar_producto ('bikini', 35, 80)\n",
    "inventario"
   ]
  },
  {
   "cell_type": "code",
   "execution_count": 325,
   "metadata": {},
   "outputs": [],
   "source": [
    "## Compruebo si al agregar producto que ya existe(bikini), se actualiza cantidad\n",
    "\n",
    "agregar_producto ('bikini', 35, 50)"
   ]
  },
  {
   "cell_type": "code",
   "execution_count": 326,
   "metadata": {},
   "outputs": [
    {
     "data": {
      "text/plain": [
       "[{'nombre': 'pantalon', 'precio': 25, 'cantidad': 100},\n",
       " {'nombre': 'camisa', 'precio': 20, 'cantidad': 200},\n",
       " {'nombre': 'bikini', 'precio': 35, 'cantidad': 50}]"
      ]
     },
     "execution_count": 326,
     "metadata": {},
     "output_type": "execute_result"
    }
   ],
   "source": [
    "inventario"
   ]
  },
  {
   "cell_type": "code",
   "execution_count": 327,
   "metadata": {},
   "outputs": [],
   "source": [
    "## Compruebo si al agregar producto que ya existe(bikini), se actualiza cantidad\n",
    "\n",
    "agregar_producto ('bikini', 35, 70)"
   ]
  },
  {
   "cell_type": "code",
   "execution_count": 330,
   "metadata": {},
   "outputs": [
    {
     "data": {
      "text/plain": [
       "[{'nombre': 'pantalon', 'precio': 25, 'cantidad': 100},\n",
       " {'nombre': 'camisa', 'precio': 20, 'cantidad': 200},\n",
       " {'nombre': 'bikini', 'precio': 35, 'cantidad': 70}]"
      ]
     },
     "execution_count": 330,
     "metadata": {},
     "output_type": "execute_result"
    }
   ],
   "source": [
    "inventario"
   ]
  },
  {
   "cell_type": "markdown",
   "metadata": {},
   "source": [
    "2. 'ver_inventario()': Muestra el inventario de productos con sus detalles. \n",
    "     - Utiliza un bucle `for` para recorrer el inventario. \n",
    "     - Imprime los detalles (nombre, precio, cantidad) de cada producto. "
   ]
  },
  {
   "cell_type": "code",
   "execution_count": 331,
   "metadata": {},
   "outputs": [
    {
     "data": {
      "text/plain": [
       "[{'nombre': 'pantalon', 'precio': 25, 'cantidad': 100},\n",
       " {'nombre': 'camisa', 'precio': 20, 'cantidad': 200},\n",
       " {'nombre': 'bikini', 'precio': 35, 'cantidad': 70}]"
      ]
     },
     "execution_count": 331,
     "metadata": {},
     "output_type": "execute_result"
    }
   ],
   "source": [
    "inventario"
   ]
  },
  {
   "cell_type": "code",
   "execution_count": 340,
   "metadata": {},
   "outputs": [],
   "source": [
    "# Definir funcion2\n",
    "\n",
    "def ver_inventario():\n",
    "    for producto in inventario:\n",
    "        print(inventario)"
   ]
  },
  {
   "cell_type": "code",
   "execution_count": 341,
   "metadata": {},
   "outputs": [
    {
     "name": "stdout",
     "output_type": "stream",
     "text": [
      "[{'nombre': 'pantalon', 'precio': 25, 'cantidad': 100}, {'nombre': 'camisa', 'precio': 20, 'cantidad': 200}, {'nombre': 'bikini', 'precio': 35, 'cantidad': 70}]\n",
      "[{'nombre': 'pantalon', 'precio': 25, 'cantidad': 100}, {'nombre': 'camisa', 'precio': 20, 'cantidad': 200}, {'nombre': 'bikini', 'precio': 35, 'cantidad': 70}]\n",
      "[{'nombre': 'pantalon', 'precio': 25, 'cantidad': 100}, {'nombre': 'camisa', 'precio': 20, 'cantidad': 200}, {'nombre': 'bikini', 'precio': 35, 'cantidad': 70}]\n"
     ]
    }
   ],
   "source": [
    "# Llamar funcion2:\n",
    "\n",
    "ver_inventario()"
   ]
  },
  {
   "cell_type": "markdown",
   "metadata": {},
   "source": [
    "# Ejercicio 3\n",
    "\n",
    " 3. 'buscar_producto(nombre)': Busca un producto en el inventario por nombre y muestra sus detalles si se encuentra. Debe recibir el nombre del producto como parámetro. \n",
    "     - Utiliza un bucle `for` para recorrer el inventario. \n",
    "     - Compara los nombres de los productos con el nombre proporcionado. \n",
    "     - Si se encuentra el producto, imprime sus detalles. "
   ]
  },
  {
   "cell_type": "code",
   "execution_count": 342,
   "metadata": {},
   "outputs": [
    {
     "data": {
      "text/plain": [
       "[{'nombre': 'pantalon', 'precio': 25, 'cantidad': 100},\n",
       " {'nombre': 'camisa', 'precio': 20, 'cantidad': 200},\n",
       " {'nombre': 'bikini', 'precio': 35, 'cantidad': 70}]"
      ]
     },
     "execution_count": 342,
     "metadata": {},
     "output_type": "execute_result"
    }
   ],
   "source": [
    "inventario"
   ]
  },
  {
   "cell_type": "code",
   "execution_count": 368,
   "metadata": {},
   "outputs": [],
   "source": [
    "# Creando codigo funcion3:\n",
    "\n",
    "inventario \n",
    "\n",
    "def buscar_producto(nombre):\n",
    "    for producto in inventario:\n",
    "        if producto['nombre'] == nombre:\n",
    "            print (producto)"
   ]
  },
  {
   "cell_type": "code",
   "execution_count": 369,
   "metadata": {},
   "outputs": [
    {
     "name": "stdout",
     "output_type": "stream",
     "text": [
      "{'nombre': 'camisa', 'precio': 20, 'cantidad': 200}\n"
     ]
    }
   ],
   "source": [
    "# Llamar funcion3:\n",
    "\n",
    "buscar_producto('camisa')"
   ]
  },
  {
   "cell_type": "code",
   "execution_count": 370,
   "metadata": {},
   "outputs": [
    {
     "name": "stdout",
     "output_type": "stream",
     "text": [
      "{'nombre': 'pantalon', 'precio': 25, 'cantidad': 100}\n"
     ]
    }
   ],
   "source": [
    "buscar_producto('pantalon')"
   ]
  },
  {
   "cell_type": "code",
   "execution_count": 371,
   "metadata": {},
   "outputs": [
    {
     "name": "stdout",
     "output_type": "stream",
     "text": [
      "{'nombre': 'bikini', 'precio': 35, 'cantidad': 70}\n"
     ]
    }
   ],
   "source": [
    "buscar_producto('bikini')"
   ]
  },
  {
   "cell_type": "markdown",
   "metadata": {},
   "source": [
    "4. `actualizar_stock(nombre, cantidad)`: Actualiza el stock de un producto en el inventario. Debe recibir el nombre del producto y la cantidad a agregar o quitar como parámetros. \n",
    "    - Utiliza un bucle `for` para recorrer el inventario. \n",
    "    - Busca el producto por nombre.\n",
    "    - Actualiza la cantidad según la entrada del usuario. \n",
    "    - Si el producto no esta en el inventario muestra un mensaje indicándolo.  "
   ]
  },
  {
   "cell_type": "code",
   "execution_count": 242,
   "metadata": {},
   "outputs": [
    {
     "data": {
      "text/plain": [
       "[{'nombre': 'pantalon', 'precio': 25, 'cantidad': 200},\n",
       " {'nombre': 'camisa', 'precio': 20, 'cantidad': 30},\n",
       " {'nombre': 'bikini', 'precio': 25, 'cantidad': 100}]"
      ]
     },
     "execution_count": 242,
     "metadata": {},
     "output_type": "execute_result"
    }
   ],
   "source": [
    "inventario\n",
    "        "
   ]
  },
  {
   "cell_type": "code",
   "execution_count": 281,
   "metadata": {},
   "outputs": [],
   "source": [
    "# Definir funcion4: actualizar_stock\n",
    "\n",
    "inventario \n",
    "\n",
    "def actualizar_stock(nombre,cantidad):\n",
    "    for elemento in inventario:\n",
    "        if elemento['nombre'] == nombre:\n",
    "            elemento['cantidad'] = cantidad\n",
    "            print('El producto ha sido actualizado')\n",
    "            return nombre\n",
    "        else:\n",
    "            print('El producto no existe')\n"
   ]
  },
  {
   "cell_type": "code",
   "execution_count": 282,
   "metadata": {},
   "outputs": [
    {
     "name": "stdout",
     "output_type": "stream",
     "text": [
      "pantalon\n",
      "150\n",
      "camisa\n",
      "250\n",
      "bikini\n",
      "90\n"
     ]
    }
   ],
   "source": [
    "# probando codigo\n",
    "\n",
    "for elemento in inventario:\n",
    "    print (elemento['nombre'])\n",
    "    print (elemento['cantidad'])"
   ]
  },
  {
   "cell_type": "code",
   "execution_count": 283,
   "metadata": {},
   "outputs": [
    {
     "name": "stdout",
     "output_type": "stream",
     "text": [
      "El producto ha sido actualizado\n"
     ]
    },
    {
     "data": {
      "text/plain": [
       "'pantalon'"
      ]
     },
     "execution_count": 283,
     "metadata": {},
     "output_type": "execute_result"
    }
   ],
   "source": [
    "# Llamando a funcion4: actuzalizar_stock(producto, cantidad)\n",
    "\n",
    "actualizar_stock('pantalon', 150)"
   ]
  },
  {
   "cell_type": "code",
   "execution_count": 284,
   "metadata": {},
   "outputs": [
    {
     "name": "stdout",
     "output_type": "stream",
     "text": [
      "El producto no existe\n",
      "El producto ha sido actualizado\n"
     ]
    },
    {
     "data": {
      "text/plain": [
       "'camisa'"
      ]
     },
     "execution_count": 284,
     "metadata": {},
     "output_type": "execute_result"
    }
   ],
   "source": [
    "actualizar_stock('camisa', 250)"
   ]
  },
  {
   "cell_type": "code",
   "execution_count": 285,
   "metadata": {},
   "outputs": [
    {
     "name": "stdout",
     "output_type": "stream",
     "text": [
      "El producto no existe\n",
      "El producto no existe\n",
      "El producto ha sido actualizado\n"
     ]
    },
    {
     "data": {
      "text/plain": [
       "'bikini'"
      ]
     },
     "execution_count": 285,
     "metadata": {},
     "output_type": "execute_result"
    }
   ],
   "source": [
    "actualizar_stock('bikini', 90)"
   ]
  },
  {
   "cell_type": "code",
   "execution_count": 286,
   "metadata": {},
   "outputs": [
    {
     "name": "stdout",
     "output_type": "stream",
     "text": [
      "El producto no existe\n",
      "El producto no existe\n",
      "El producto no existe\n"
     ]
    }
   ],
   "source": [
    "actualizar_stock('zapato', 30)"
   ]
  },
  {
   "cell_type": "code",
   "execution_count": 280,
   "metadata": {},
   "outputs": [
    {
     "data": {
      "text/plain": [
       "[{'nombre': 'pantalon', 'precio': 25, 'cantidad': 150},\n",
       " {'nombre': 'camisa', 'precio': 20, 'cantidad': 250},\n",
       " {'nombre': 'bikini', 'precio': 25, 'cantidad': 90}]"
      ]
     },
     "execution_count": 280,
     "metadata": {},
     "output_type": "execute_result"
    }
   ],
   "source": [
    "inventario"
   ]
  },
  {
   "cell_type": "markdown",
   "metadata": {},
   "source": [
    "5. `eliminar_producto(nombre)`: Elimina un producto del inventario por \n",
    "nombre. Debe recibir el nombre del producto como parámetro. \n",
    "     - Utiliza un bucle `for` para recorrer el inventario. \n",
    "     - Busca el producto por nombre. \n",
    "     - Elimina el producto del inventario si existe. \n",
    "     - Si el producto no esta en el inventario muestra un mensaje \n",
    "indicándolo."
   ]
  },
  {
   "cell_type": "code",
   "execution_count": null,
   "metadata": {},
   "outputs": [],
   "source": [
    "# recorre con un for la clave nombre\n",
    "# si existe (if) eliminar con metodo remove()\n",
    "# si no existe (else) eliminar con mensaje (print)"
   ]
  },
  {
   "cell_type": "code",
   "execution_count": 120,
   "metadata": {},
   "outputs": [
    {
     "data": {
      "text/plain": [
       "list"
      ]
     },
     "execution_count": 120,
     "metadata": {},
     "output_type": "execute_result"
    }
   ],
   "source": [
    "type(inventario)"
   ]
  },
  {
   "cell_type": "code",
   "execution_count": 140,
   "metadata": {},
   "outputs": [],
   "source": [
    "inventario =[{'nombre': 'pantalon', 'precio': 25, 'cantidad': 100},\n",
    "              {'nombre': 'camisa', 'precio': 20, 'cantidad': 500},\n",
    "              {'nombre': 'bikini', 'precio': 25, 'cantidad': 200},\n",
    "              {'nombre': 'pantalon', 'precio': 25, 'cantidad': 25}]"
   ]
  },
  {
   "cell_type": "code",
   "execution_count": 141,
   "metadata": {},
   "outputs": [
    {
     "data": {
      "text/plain": [
       "[{'nombre': 'pantalon', 'precio': 25, 'cantidad': 100},\n",
       " {'nombre': 'camisa', 'precio': 20, 'cantidad': 500},\n",
       " {'nombre': 'bikini', 'precio': 25, 'cantidad': 200},\n",
       " {'nombre': 'pantalon', 'precio': 25, 'cantidad': 25}]"
      ]
     },
     "execution_count": 141,
     "metadata": {},
     "output_type": "execute_result"
    }
   ],
   "source": [
    "inventario"
   ]
  },
  {
   "cell_type": "code",
   "execution_count": 137,
   "metadata": {},
   "outputs": [],
   "source": [
    "# Crear funcion5: eliminar_producto(nombre)\n",
    "\n",
    "inventario = []\n",
    "\n",
    "def eliminar_producto(nombre):\n",
    "    for producto in inventario:\n",
    "        if 'pantalon' in inventario:\n",
    "            print('yes')\n",
    "        else:\n",
    "            print('no')"
   ]
  },
  {
   "cell_type": "code",
   "execution_count": 136,
   "metadata": {},
   "outputs": [
    {
     "name": "stdout",
     "output_type": "stream",
     "text": [
      "[]\n"
     ]
    }
   ],
   "source": [
    "print(inventario)"
   ]
  },
  {
   "cell_type": "code",
   "execution_count": 138,
   "metadata": {},
   "outputs": [
    {
     "ename": "IndexError",
     "evalue": "list index out of range",
     "output_type": "error",
     "traceback": [
      "\u001b[1;31m---------------------------------------------------------------------------\u001b[0m",
      "\u001b[1;31mIndexError\u001b[0m                                Traceback (most recent call last)",
      "Cell \u001b[1;32mIn[138], line 2\u001b[0m\n\u001b[0;32m      1\u001b[0m \u001b[38;5;28mlist\u001b[39m(inventario)\n\u001b[1;32m----> 2\u001b[0m \u001b[38;5;28mprint\u001b[39m(inventario[\u001b[38;5;241m1\u001b[39m])\n\u001b[0;32m      3\u001b[0m \u001b[38;5;28mtype\u001b[39m((inventario[\u001b[38;5;241m1\u001b[39m]))\n\u001b[0;32m      4\u001b[0m inventario[\u001b[38;5;241m1\u001b[39m]\u001b[38;5;241m.\u001b[39mvalues()\n",
      "\u001b[1;31mIndexError\u001b[0m: list index out of range"
     ]
    }
   ],
   "source": [
    "list(inventario)\n",
    "print(inventario[1])\n",
    "type((inventario[1]))\n",
    "inventario[1].values()\n",
    "'camisa' in inventario "
   ]
  },
  {
   "cell_type": "code",
   "execution_count": 384,
   "metadata": {},
   "outputs": [],
   "source": [
    "eliminar_producto('bikini')"
   ]
  },
  {
   "cell_type": "code",
   "execution_count": 385,
   "metadata": {},
   "outputs": [],
   "source": [
    "eliminar_producto('bañador')"
   ]
  },
  {
   "cell_type": "markdown",
   "metadata": {},
   "source": [
    " 6. `calcular_valor_inventario()`: Calcula y muestra el valor total del inventario. \n",
    "     - Utiliza un bucle for para calcular el valor total del inventario. \n",
    "     - Itera a través del inventario y suma el valor de cada producto \n",
    "(precio x cantidad). Es decir, calcula el valor total del inventario."
   ]
  },
  {
   "cell_type": "markdown",
   "metadata": {},
   "source": [
    "8. `procesar_pago()`: Procesa el pago de una compra, calcula el cambio y muestra un mensaje de confirmación. \n",
    "     - Utiliza un bloque `try...except` para manejar excepciones. \n",
    "     - Solicita al cliente ingresar la cantidad total y la cantidad de pago usando un input. \n",
    "     - Calcula el cambio y muestra un mensaje de pago exitoso o un error en caso de monto insuficiente. "
   ]
  },
  {
   "cell_type": "code",
   "execution_count": 402,
   "metadata": {},
   "outputs": [],
   "source": [
    "# Dentro funcion\n",
    "# para el pago: resta input(cantidad de pago) - input(cantidad total)\n",
    "# try cuando se cumpla y print mensaje pago exitoso\n",
    "# except error valor no numerico y print mensaje monto insuficiente\n",
    "# except error numero negativo y print mensaje monto insuficiente\n"
   ]
  },
  {
   "cell_type": "code",
   "execution_count": 39,
   "metadata": {},
   "outputs": [],
   "source": [
    "# Definir funcion8:\n",
    "\n",
    "def procesar_pago():\n",
    "    try:\n",
    "        cantidad_introducida = float(input(\"Ingrese un número: \"))\n",
    "        cantidad_a_pagar = float(input(\"Ingrese un número: \"))\n",
    "        resultado_pago = (cantidad_introducida - cantidad_a_pagar)\n",
    "        if resultado_pago > 0:\n",
    "            print('La cantidad introducida es:', cantidad_introducida)\n",
    "            print('La cantidad a pagar es:', cantidad_a_pagar)\n",
    "            print ('El pago ha sido exitoso')\n",
    "        elif resultado_pago < 0:\n",
    "            print('La cantidad introducida es:', cantidad_introducida)\n",
    "            print('La cantidad a pagar es:', cantidad_a_pagar)\n",
    "            print('Monto insuficiente')\n",
    "    except:\n",
    "        ValueError\n",
    "        print ('El pago ha fallado')"
   ]
  },
  {
   "cell_type": "code",
   "execution_count": 37,
   "metadata": {},
   "outputs": [
    {
     "name": "stdout",
     "output_type": "stream",
     "text": [
      "La cantidad introducida es: 50.0\n",
      "La cantidad a pagar es: 10.0\n",
      "El pago ha sido exitoso\n"
     ]
    }
   ],
   "source": [
    "# Comprobar que try - excetp 'funciona'\n",
    "\n",
    "try:\n",
    "    cantidad_introducida = float(input(\"Ingrese un número: \"))\n",
    "    cantidad_a_pagar = float(input(\"Ingrese un número: \"))\n",
    "    resultado_pago = (cantidad_introducida - cantidad_a_pagar)\n",
    "    if resultado_pago > 0:\n",
    "        print('La cantidad introducida es:', cantidad_introducida)\n",
    "        print('La cantidad a pagar es:', cantidad_a_pagar)\n",
    "        print ('El pago ha sido exitoso')\n",
    "    elif resultado_pago < 0:\n",
    "        print('La cantidad introducida es:', cantidad_introducida)\n",
    "        print('La cantidad a pagar es:', cantidad_a_pagar)\n",
    "        print('Monto insuficiente')\n",
    "\n",
    "except:\n",
    "    ValueError\n",
    "    print ('El pago ha fallado')"
   ]
  },
  {
   "cell_type": "code",
   "execution_count": 40,
   "metadata": {},
   "outputs": [
    {
     "name": "stdout",
     "output_type": "stream",
     "text": [
      "La cantidad introducida es: 25.0\n",
      "La cantidad a pagar es: 30.0\n",
      "Monto insuficiente\n"
     ]
    }
   ],
   "source": [
    "# Llamar funcion8\n",
    "\n",
    "procesar_pago()"
   ]
  },
  {
   "cell_type": "markdown",
   "metadata": {},
   "source": [
    "9. `agregar_cliente(nombre, email)`: Agrega un nuevo cliente al registro de clientes. Debe recibir el nombre y el correo electrónico del cliente como parámetros. \n",
    "     - Agrega un cliente al diccionario de clientes con su nombre y correo electrónico. "
   ]
  },
  {
   "cell_type": "code",
   "execution_count": 192,
   "metadata": {},
   "outputs": [],
   "source": [
    "# Definir funcion9: agregar_cliente(nombre, email)\n",
    "\n",
    "clientes = []\n",
    "\n",
    "def agregar_cliente(nombre, email):\n",
    "    nuevo_cliente = {\n",
    "        'nombre' : nombre,\n",
    "        'email' : email,\n",
    "        'compras' : [],\n",
    "    }\n",
    "    clientes.append(nuevo_cliente)\n",
    "    return clientes\n"
   ]
  },
  {
   "cell_type": "code",
   "execution_count": 193,
   "metadata": {},
   "outputs": [
    {
     "data": {
      "text/plain": [
       "[{'nombre': 'Ana', 'email': 'anaperez@gmail.com', 'compras': []}]"
      ]
     },
     "execution_count": 193,
     "metadata": {},
     "output_type": "execute_result"
    }
   ],
   "source": [
    "# Llamar a la funcion9\n",
    "\n",
    "agregar_cliente('Ana', 'anaperez@gmail.com')"
   ]
  },
  {
   "cell_type": "markdown",
   "metadata": {},
   "source": [
    "10. ver_clientes(): Muestra la lista de clientes registrados con sus nombres y correos electrónicos. \n",
    "     - Utiliza un bucle for para recorrer la base de datos de clientes. \n",
    "     - Imprime los detalles de cada cliente (nombre y correo electrónico). "
   ]
  },
  {
   "cell_type": "code",
   "execution_count": 194,
   "metadata": {},
   "outputs": [
    {
     "data": {
      "text/plain": [
       "[{'nombre': 'Ana', 'email': 'anaperez@gmail.com', 'compras': []},\n",
       " {'nombre': 'Sofia', 'email': 'sofia1234@gmail', 'compras': []}]"
      ]
     },
     "execution_count": 194,
     "metadata": {},
     "output_type": "execute_result"
    }
   ],
   "source": [
    "agregar_cliente ('Sofia', 'sofia1234@gmail')"
   ]
  },
  {
   "cell_type": "code",
   "execution_count": 195,
   "metadata": {},
   "outputs": [
    {
     "data": {
      "text/plain": [
       "[{'nombre': 'Ana', 'email': 'anaperez@gmail.com', 'compras': []},\n",
       " {'nombre': 'Sofia', 'email': 'sofia1234@gmail', 'compras': []},\n",
       " {'nombre': 'Aimar', 'email': 'aimar10@hotmail.com', 'compras': []}]"
      ]
     },
     "execution_count": 195,
     "metadata": {},
     "output_type": "execute_result"
    }
   ],
   "source": [
    "agregar_cliente ('Aimar', 'aimar10@hotmail.com')"
   ]
  },
  {
   "cell_type": "code",
   "execution_count": 196,
   "metadata": {},
   "outputs": [],
   "source": [
    "# Definir funcion10: ver_clientes()\n",
    "\n",
    "clientes \n",
    "\n",
    "def ver_clientes():\n",
    "    for cliente in clientes:\n",
    "        print(cliente)"
   ]
  },
  {
   "cell_type": "code",
   "execution_count": 197,
   "metadata": {},
   "outputs": [
    {
     "name": "stdout",
     "output_type": "stream",
     "text": [
      "{'nombre': 'Ana', 'email': 'anaperez@gmail.com', 'compras': []}\n",
      "{'nombre': 'Sofia', 'email': 'sofia1234@gmail', 'compras': []}\n",
      "{'nombre': 'Aimar', 'email': 'aimar10@hotmail.com', 'compras': []}\n"
     ]
    }
   ],
   "source": [
    "# Llamada a la funcion10: ver_clientes()\n",
    "\n",
    "ver_clientes()"
   ]
  },
  {
   "cell_type": "markdown",
   "metadata": {},
   "source": [
    "11. registrar_compra(nombre_cliente, carrito): Registra una compra para un cliente, actualiza las ventas totales y agrega la compra al historial del cliente. Debe recibir el nombre del cliente y el carrito de compras como parámetros. \n",
    "     - Busca al cliente en el diccionario de clientes. \n",
    "     - Si el cliente no esta en el diccionario de clientes, muestra que no se puede realizar la acción por que el cliente no está en el diccionario.  \n",
    "     - Calcula el total de la compra y registra la compra, incluyendo los productos y el total. "
   ]
  },
  {
   "cell_type": "code",
   "execution_count": 184,
   "metadata": {},
   "outputs": [
    {
     "data": {
      "text/plain": [
       "[{'nombre': 'Ana', 'email': 'anaperez@gmail.com'},\n",
       " {'nombre': 'Sofia', 'email': 'sofia1234@gmail'},\n",
       " {'nombre': 'Aimar', 'email': 'aimar10@hotmail.com'}]"
      ]
     },
     "execution_count": 184,
     "metadata": {},
     "output_type": "execute_result"
    }
   ],
   "source": [
    "clientes"
   ]
  },
  {
   "cell_type": "markdown",
   "metadata": {},
   "source": [
    "12. ver_compras_cliente(nombre_cliente): Muestra el historial de compras \n",
    "de un cliente. Debe recibir el nombre del cliente como parámetro. \n",
    "     - Busca al cliente en el diccionario de clientes. \n",
    "     - Muestra las compras realizadas por el cliente, incluyendo detalles de productos y totales. "
   ]
  },
  {
   "cell_type": "markdown",
   "metadata": {},
   "source": [
    "13. calcular_ventas_totales(): Muestra las ventas totales de la tienda. \n",
    "     - Suma los totales de todas las compras realizadas y muestra el total de ventas totales en la tienda."
   ]
  }
 ],
 "metadata": {
  "kernelspec": {
   "display_name": "base",
   "language": "python",
   "name": "python3"
  },
  "language_info": {
   "codemirror_mode": {
    "name": "ipython",
    "version": 3
   },
   "file_extension": ".py",
   "mimetype": "text/x-python",
   "name": "python",
   "nbconvert_exporter": "python",
   "pygments_lexer": "ipython3",
   "version": "3.12.4"
  }
 },
 "nbformat": 4,
 "nbformat_minor": 2
}
