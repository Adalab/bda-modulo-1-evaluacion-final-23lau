{
 "cells": [
  {
   "cell_type": "code",
   "execution_count": null,
   "metadata": {},
   "outputs": [],
   "source": [
    "# Prueba"
   ]
  },
  {
   "cell_type": "markdown",
   "metadata": {},
   "source": [
    "### Funciones con las que vamos a trabajar"
   ]
  },
  {
   "cell_type": "code",
   "execution_count": 1,
   "metadata": {},
   "outputs": [],
   "source": [
    "# Función 1"
   ]
  },
  {
   "cell_type": "code",
   "execution_count": null,
   "metadata": {},
   "outputs": [],
   "source": [
    "# Función 2"
   ]
  },
  {
   "cell_type": "code",
   "execution_count": null,
   "metadata": {},
   "outputs": [],
   "source": [
    "# Función 3"
   ]
  },
  {
   "cell_type": "markdown",
   "metadata": {},
   "source": [
    "### 3 Estructuras con las que vamos a trabajar:\n",
    "\n",
    "1. 'inventario' (lista de diccionarios): Una estructura para almacenar los productos en el inventario. Cada producto debe ser representado como un diccionario con las siguientes claves: `'nombre'`, `'precio'`, y `'cantidad'`. Al principio deberá ser una lista vacía. \n",
    "\n",
    "2. 'clientes' (diccionario): Una estructura para llevar un registro de los clientes de la tienda. Cada cliente debe ser representado como un diccionario con las siguientes claves: `'nombre'` y `'email'`. Al inicio deberá ser un diccionario vacío. Además, cada cliente debe tener un historial de compras. \n",
    "\n",
    "3. 'ventas_totales'(float): Una variable para llevar un registro de las ventas totales de la tienda. Inicializalo con valor 0. "
   ]
  },
  {
   "cell_type": "code",
   "execution_count": 33,
   "metadata": {},
   "outputs": [
    {
     "name": "stdout",
     "output_type": "stream",
     "text": [
      "[]\n"
     ]
    }
   ],
   "source": [
    "inventario = []\n",
    "clientes = {'nombre': '', 'email': ''}\n",
    "ventas_totales = []"
   ]
  },
  {
   "cell_type": "markdown",
   "metadata": {},
   "source": [
    "### Ejercicio 1\n",
    "\n",
    "1. 'agregar_producto(nombre, precio, cantidad)': Esta función agrega un producto al inventario o actualiza su cantidad si ya existe. Debe recibir el nombre, precio y cantidad del producto como parámetros.  \n",
    " - Itera a través del inventario y compara los nombres de los productos con el nombre proporcionado. \n",
    " - Si el producto ya existe, actualiza la cantidad. \n",
    " - Si no existe, agrega un nuevo producto al inventario."
   ]
  },
  {
   "cell_type": "code",
   "execution_count": null,
   "metadata": {},
   "outputs": [],
   "source": [
    "# Ejercicio 1\n",
    "\n",
    "# Definir función 'agregar_producto(nombre, precio, cantidad)\n",
    "#### if producto existe - actualiza cantidad en inventario (Vglobal)\n",
    "#### else agrega producto al inventario\n",
    "\n"
   ]
  },
  {
   "cell_type": "code",
   "execution_count": 204,
   "metadata": {},
   "outputs": [],
   "source": [
    "inventario = []"
   ]
  },
  {
   "cell_type": "code",
   "execution_count": 205,
   "metadata": {},
   "outputs": [],
   "source": [
    "inventario = []\n",
    "\n",
    "def agregar_producto (nombre, precio, cantidad):\n",
    "    nuevo_producto = {\n",
    "        'nombre': nombre,\n",
    "        'precio' : precio,\n",
    "        'cantidad' : cantidad\n",
    "        }\n",
    "    if nuevo_producto in inventario:\n",
    "            inventario.append(nuevo_producto)  \n",
    "            pass\n",
    "    else:\n",
    "        inventario.append(nuevo_producto)\n",
    "            \n",
    "    return inventario \n"
   ]
  },
  {
   "cell_type": "code",
   "execution_count": 206,
   "metadata": {},
   "outputs": [
    {
     "name": "stdout",
     "output_type": "stream",
     "text": [
      "[{'nombre': 'pantalon', 'precio': 25, 'cantidad': 100}, {'nombre': 'camisa', 'precio': 20, 'cantidad': 500}, {'nombre': 'bikini', 'precio': 25, 'cantidad': 200}]\n"
     ]
    }
   ],
   "source": [
    "agregar_producto('pantalon', 25, 100)\n",
    "agregar_producto('camisa', 20, 500)\n",
    "agregar_producto('bikini', 25, 200)\n",
    "\n",
    "print(inventario)"
   ]
  },
  {
   "cell_type": "code",
   "execution_count": 207,
   "metadata": {},
   "outputs": [
    {
     "data": {
      "text/plain": [
       "[{'nombre': 'pantalon', 'precio': 25, 'cantidad': 100},\n",
       " {'nombre': 'camisa', 'precio': 20, 'cantidad': 500},\n",
       " {'nombre': 'bikini', 'precio': 25, 'cantidad': 200}]"
      ]
     },
     "execution_count": 207,
     "metadata": {},
     "output_type": "execute_result"
    }
   ],
   "source": [
    "inventario"
   ]
  },
  {
   "cell_type": "code",
   "execution_count": 208,
   "metadata": {},
   "outputs": [
    {
     "data": {
      "text/plain": [
       "[{'nombre': 'pantalon', 'precio': 25, 'cantidad': 100},\n",
       " {'nombre': 'camisa', 'precio': 20, 'cantidad': 500},\n",
       " {'nombre': 'bikini', 'precio': 25, 'cantidad': 200},\n",
       " {'nombre': 'pantalon', 'precio': 25, 'cantidad': 25}]"
      ]
     },
     "execution_count": 208,
     "metadata": {},
     "output_type": "execute_result"
    }
   ],
   "source": [
    "agregar_producto('pantalon', 25, 25)"
   ]
  },
  {
   "cell_type": "markdown",
   "metadata": {},
   "source": [
    "2. 'ver_inventario()': Muestra el inventario de productos con sus detalles. \n",
    "     - Utiliza un bucle `for` para recorrer el inventario. \n",
    "     - Imprime los detalles (nombre, precio, cantidad) de cada producto. "
   ]
  },
  {
   "cell_type": "code",
   "execution_count": 219,
   "metadata": {},
   "outputs": [],
   "source": [
    "# Crear función2: 'ver_inventario()\" que contenga bucle for\n",
    "# Llamar funcion "
   ]
  },
  {
   "cell_type": "code",
   "execution_count": 230,
   "metadata": {},
   "outputs": [
    {
     "data": {
      "text/plain": [
       "[{'nombre': 'pantalon', 'precio': 25, 'cantidad': 100},\n",
       " {'nombre': 'camisa', 'precio': 20, 'cantidad': 500},\n",
       " {'nombre': 'bikini', 'precio': 25, 'cantidad': 200},\n",
       " {'nombre': 'pantalon', 'precio': 25, 'cantidad': 25}]"
      ]
     },
     "execution_count": 230,
     "metadata": {},
     "output_type": "execute_result"
    }
   ],
   "source": [
    "inventario"
   ]
  },
  {
   "cell_type": "code",
   "execution_count": 237,
   "metadata": {},
   "outputs": [],
   "source": [
    "def ver_inventario():\n",
    "    for producto in inventario:\n",
    "        print(producto)"
   ]
  },
  {
   "cell_type": "code",
   "execution_count": 238,
   "metadata": {},
   "outputs": [
    {
     "name": "stdout",
     "output_type": "stream",
     "text": [
      "{'nombre': 'pantalon', 'precio': 25, 'cantidad': 100}\n",
      "{'nombre': 'camisa', 'precio': 20, 'cantidad': 500}\n",
      "{'nombre': 'bikini', 'precio': 25, 'cantidad': 200}\n",
      "{'nombre': 'pantalon', 'precio': 25, 'cantidad': 25}\n"
     ]
    }
   ],
   "source": [
    "# Llamar funcion:\n",
    "\n",
    "ver_inventario()"
   ]
  }
 ],
 "metadata": {
  "kernelspec": {
   "display_name": "base",
   "language": "python",
   "name": "python3"
  },
  "language_info": {
   "codemirror_mode": {
    "name": "ipython",
    "version": 3
   },
   "file_extension": ".py",
   "mimetype": "text/x-python",
   "name": "python",
   "nbconvert_exporter": "python",
   "pygments_lexer": "ipython3",
   "version": "3.12.4"
  }
 },
 "nbformat": 4,
 "nbformat_minor": 2
}
